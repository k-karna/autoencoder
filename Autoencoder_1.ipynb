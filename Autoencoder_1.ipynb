{
 "cells": [
  {
   "cell_type": "code",
   "execution_count": 1,
   "id": "02d0a567",
   "metadata": {},
   "outputs": [],
   "source": [
    "from tensorflow.keras.layers import Dense, Input\n",
    "from tensorflow.keras.layers import Conv2D, Flatten\n",
    "from tensorflow.keras.layers import Reshape, Conv2DTranspose\n",
    "from tensorflow.keras.models import Model\n",
    "from tensorflow.keras.datasets import mnist \n",
    "from tensorflow.keras.utils import plot_model \n",
    "from tensorflow.keras import backend as K "
   ]
  },
  {
   "cell_type": "code",
   "execution_count": 2,
   "id": "e8897d3a",
   "metadata": {},
   "outputs": [],
   "source": [
    "import numpy as np\n",
    "import matplotlib.pyplot as plt "
   ]
  },
  {
   "cell_type": "code",
   "execution_count": 3,
   "id": "9fe9f250",
   "metadata": {},
   "outputs": [],
   "source": [
    "#loading dataset MNIST \n",
    "\n",
    "(x_train, _), (x_test,_) = mnist.load_data()"
   ]
  },
  {
   "cell_type": "code",
   "execution_count": 4,
   "id": "bde42c07",
   "metadata": {},
   "outputs": [],
   "source": [
    "#reshape to (28,28,1) and normalize input images \n",
    "\n",
    "image_size = x_train.shape[1]\n",
    "x_train = np.reshape(x_train, [-1, image_size, image_size,1])\n",
    "x_test = np.reshape(x_test, [-1, image_size, image_size, 1])\n",
    "\n",
    "x_train = x_train.astype('float32') /255 \n",
    "x_test = x_test.astype('float32') / 255\n"
   ]
  },
  {
   "cell_type": "code",
   "execution_count": 5,
   "id": "0d8fbaf7",
   "metadata": {},
   "outputs": [],
   "source": [
    "#network parameters \n",
    "\n",
    "input_shape = (image_size, image_size, 1)\n",
    "batch_size = 32 \n",
    "kernel_size = 3\n",
    "latent_dim = 16 \n",
    "\n",
    "#encoder/decoder number of CNN layers and filters per layer\n",
    "layer_filters = [32, 64]"
   ]
  },
  {
   "cell_type": "code",
   "execution_count": 6,
   "id": "5aac4c22",
   "metadata": {},
   "outputs": [],
   "source": [
    "#Building the autoencode MODEL \n",
    "\n",
    "#First - the Encoder part \n",
    "\n",
    "inputs = Input(shape=input_shape, name='encoder_input')\n",
    "x = inputs \n",
    "\n",
    "#stack of Conv2D(32) - Conv2d(64)\n",
    "for filters in layer_filters:\n",
    "    \n",
    "    x = Conv2D(filters = filters,\n",
    "              kernel_size=kernel_size,\n",
    "              activation='relu',\n",
    "              strides = 2,\n",
    "              padding='same')(x)"
   ]
  },
  {
   "cell_type": "code",
   "execution_count": 7,
   "id": "132b6ce9",
   "metadata": {},
   "outputs": [],
   "source": [
    "#Shape info needed to build decoder model so we dont \n",
    "#hand computation the input to the decoder's first\n",
    "# Conv2DTranspose will have this shpae\n",
    "#shape is (7,7,64) which is processed by the decoder\n",
    "#back to (28,28,1)\n",
    "\n",
    "shape = K.int_shape(x)"
   ]
  },
  {
   "cell_type": "code",
   "execution_count": 8,
   "id": "ef003425",
   "metadata": {},
   "outputs": [
    {
     "name": "stdout",
     "output_type": "stream",
     "text": [
      "Model: \"encoder\"\n",
      "_________________________________________________________________\n",
      " Layer (type)                Output Shape              Param #   \n",
      "=================================================================\n",
      " encoder_input (InputLayer)  [(None, 28, 28, 1)]       0         \n",
      "                                                                 \n",
      " conv2d (Conv2D)             (None, 14, 14, 32)        320       \n",
      "                                                                 \n",
      " conv2d_1 (Conv2D)           (None, 7, 7, 64)          18496     \n",
      "                                                                 \n",
      " flatten (Flatten)           (None, 3136)              0         \n",
      "                                                                 \n",
      " latent_vector (Dense)       (None, 16)                50192     \n",
      "                                                                 \n",
      "=================================================================\n",
      "Total params: 69,008\n",
      "Trainable params: 69,008\n",
      "Non-trainable params: 0\n",
      "_________________________________________________________________\n"
     ]
    }
   ],
   "source": [
    "#generate latent vector \n",
    "\n",
    "x = Flatten()(x)\n",
    "latent = Dense(latent_dim, name='latent_vector')(x)\n",
    "\n",
    "#instantiate encoder model \n",
    "\n",
    "encoder = Model(inputs, latent, name='encoder')\n",
    "encoder.summary()"
   ]
  },
  {
   "cell_type": "code",
   "execution_count": 9,
   "id": "68bf07a1",
   "metadata": {},
   "outputs": [
    {
     "name": "stdout",
     "output_type": "stream",
     "text": [
      "You must install pydot (`pip install pydot`) and install graphviz (see instructions at https://graphviz.gitlab.io/download/) for plot_model/model_to_dot to work.\n"
     ]
    }
   ],
   "source": [
    "plot_model(encoder, to_file='encoder.png', show_shapes=True)"
   ]
  },
  {
   "cell_type": "code",
   "execution_count": 10,
   "id": "3a82a335",
   "metadata": {},
   "outputs": [
    {
     "name": "stdout",
     "output_type": "stream",
     "text": [
      "Requirement already satisfied: pydot in c:\\python39\\lib\\site-packages (1.4.2)\n",
      "Requirement already satisfied: pyparsing>=2.1.4 in c:\\python39\\lib\\site-packages (from pydot) (3.0.8)\n"
     ]
    }
   ],
   "source": [
    "!pip install pydot"
   ]
  },
  {
   "cell_type": "code",
   "execution_count": 11,
   "id": "692c0a57",
   "metadata": {},
   "outputs": [
    {
     "name": "stdout",
     "output_type": "stream",
     "text": [
      "Requirement already satisfied: graphviz in c:\\python39\\lib\\site-packages (0.20.1)\n"
     ]
    }
   ],
   "source": [
    "!pip install graphviz"
   ]
  },
  {
   "cell_type": "code",
   "execution_count": 12,
   "id": "85bb01c0",
   "metadata": {},
   "outputs": [
    {
     "name": "stdout",
     "output_type": "stream",
     "text": [
      "You must install pydot (`pip install pydot`) and install graphviz (see instructions at https://graphviz.gitlab.io/download/) for plot_model/model_to_dot to work.\n"
     ]
    }
   ],
   "source": [
    "plot_model(encoder, to_file='encoder.png', show_shapes=True)"
   ]
  },
  {
   "cell_type": "code",
   "execution_count": 13,
   "id": "9db81018",
   "metadata": {},
   "outputs": [],
   "source": [
    "#Build the decoder model\n",
    "\n",
    "latent_inputs = Input(shape=(latent_dim,),name='decoder_input')\n",
    "\n",
    "#use the shape (7,7,64) that was earlier saved\n",
    "x = Dense(shape[1]*shape[2]*shape[3])(latent_inputs)\n",
    "\n",
    "#from vector to suitable shape for tansposed conv\n",
    "x = Reshape((shape[1], shape[2],shape[3]))(x)"
   ]
  },
  {
   "cell_type": "code",
   "execution_count": 14,
   "id": "24c26e17",
   "metadata": {},
   "outputs": [],
   "source": [
    "#stack of Conv2DTranspose(64)-conv2DTranpose(32)\n",
    "\n",
    "for filters in layer_filters[::-1]:\n",
    "    \n",
    "    x = Conv2DTranspose(filters=filters,\n",
    "                       kernel_size=kernel_size,\n",
    "                       activation='relu',\n",
    "                       strides=2,\n",
    "                       padding='same')(x)"
   ]
  },
  {
   "cell_type": "code",
   "execution_count": 15,
   "id": "0686ae00",
   "metadata": {},
   "outputs": [],
   "source": [
    "#Reconstruct the input\n",
    "\n",
    "outputs = Conv2DTranspose(filters=1,\n",
    "                         kernel_size=kernel_size,\n",
    "                         activation='sigmoid',\n",
    "                         padding='same',\n",
    "                         name='decoder_output')(x)"
   ]
  },
  {
   "cell_type": "code",
   "execution_count": 16,
   "id": "68ec731c",
   "metadata": {},
   "outputs": [
    {
     "name": "stdout",
     "output_type": "stream",
     "text": [
      "Model: \"decoder\"\n",
      "_________________________________________________________________\n",
      " Layer (type)                Output Shape              Param #   \n",
      "=================================================================\n",
      " decoder_input (InputLayer)  [(None, 16)]              0         \n",
      "                                                                 \n",
      " dense (Dense)               (None, 3136)              53312     \n",
      "                                                                 \n",
      " reshape (Reshape)           (None, 7, 7, 64)          0         \n",
      "                                                                 \n",
      " conv2d_transpose (Conv2DTra  (None, 14, 14, 64)       36928     \n",
      " nspose)                                                         \n",
      "                                                                 \n",
      " conv2d_transpose_1 (Conv2DT  (None, 28, 28, 32)       18464     \n",
      " ranspose)                                                       \n",
      "                                                                 \n",
      " decoder_output (Conv2DTrans  (None, 28, 28, 1)        289       \n",
      " pose)                                                           \n",
      "                                                                 \n",
      "=================================================================\n",
      "Total params: 108,993\n",
      "Trainable params: 108,993\n",
      "Non-trainable params: 0\n",
      "_________________________________________________________________\n"
     ]
    }
   ],
   "source": [
    "#instantiate decoder model \n",
    "decoder = Model(latent_inputs,outputs, name='decoder')\n",
    "decoder.summary()"
   ]
  },
  {
   "cell_type": "code",
   "execution_count": 17,
   "id": "68f2659a",
   "metadata": {},
   "outputs": [
    {
     "name": "stdout",
     "output_type": "stream",
     "text": [
      "Model: \"autoencoder\"\n",
      "_________________________________________________________________\n",
      " Layer (type)                Output Shape              Param #   \n",
      "=================================================================\n",
      " encoder_input (InputLayer)  [(None, 28, 28, 1)]       0         \n",
      "                                                                 \n",
      " encoder (Functional)        (None, 16)                69008     \n",
      "                                                                 \n",
      " decoder (Functional)        (None, 28, 28, 1)         108993    \n",
      "                                                                 \n",
      "=================================================================\n",
      "Total params: 178,001\n",
      "Trainable params: 178,001\n",
      "Non-trainable params: 0\n",
      "_________________________________________________________________\n"
     ]
    }
   ],
   "source": [
    "#autoencoder = encoder + decoder\n",
    "#instantiate autoencoder model \n",
    "\n",
    "autoencoder = Model(inputs,\n",
    "                   decoder(encoder(inputs)),\n",
    "                   name='autoencoder')\n",
    "autoencoder.summary()"
   ]
  },
  {
   "cell_type": "code",
   "execution_count": 18,
   "id": "79c18f76",
   "metadata": {},
   "outputs": [
    {
     "name": "stdout",
     "output_type": "stream",
     "text": [
      "You must install pydot (`pip install pydot`) and install graphviz (see instructions at https://graphviz.gitlab.io/download/) for plot_model/model_to_dot to work.\n"
     ]
    }
   ],
   "source": [
    "plot_model(autoencoder, to_file='autoencoder.png',\n",
    "          show_shapes=True)"
   ]
  },
  {
   "cell_type": "code",
   "execution_count": 19,
   "id": "74a29768",
   "metadata": {},
   "outputs": [],
   "source": [
    "#mean square error loss function and Adam optimizer \n",
    "\n",
    "autoencoder.compile(loss='mse',optimizer='adam')"
   ]
  },
  {
   "cell_type": "code",
   "execution_count": 20,
   "id": "d7552dca",
   "metadata": {},
   "outputs": [
    {
     "name": "stdout",
     "output_type": "stream",
     "text": [
      "Epoch 1/20\n",
      "1875/1875 [==============================] - 34s 18ms/step - loss: 0.0206 - val_loss: 0.0105\n",
      "Epoch 2/20\n",
      "1875/1875 [==============================] - 37s 20ms/step - loss: 0.0098 - val_loss: 0.0090\n",
      "Epoch 3/20\n",
      "1875/1875 [==============================] - 40s 22ms/step - loss: 0.0087 - val_loss: 0.0082\n",
      "Epoch 4/20\n",
      "1875/1875 [==============================] - 46s 24ms/step - loss: 0.0081 - val_loss: 0.0079\n",
      "Epoch 5/20\n",
      "1875/1875 [==============================] - 55s 29ms/step - loss: 0.0077 - val_loss: 0.0075\n",
      "Epoch 6/20\n",
      "1875/1875 [==============================] - 67s 36ms/step - loss: 0.0074 - val_loss: 0.0075\n",
      "Epoch 7/20\n",
      "1875/1875 [==============================] - 57s 30ms/step - loss: 0.0072 - val_loss: 0.0073\n",
      "Epoch 8/20\n",
      "1875/1875 [==============================] - 56s 30ms/step - loss: 0.0070 - val_loss: 0.0072\n",
      "Epoch 9/20\n",
      "1875/1875 [==============================] - 62s 33ms/step - loss: 0.0069 - val_loss: 0.0071\n",
      "Epoch 10/20\n",
      "1875/1875 [==============================] - 58s 31ms/step - loss: 0.0068 - val_loss: 0.0070\n",
      "Epoch 11/20\n",
      "1875/1875 [==============================] - 60s 32ms/step - loss: 0.0067 - val_loss: 0.0069\n",
      "Epoch 12/20\n",
      "1875/1875 [==============================] - 58s 31ms/step - loss: 0.0066 - val_loss: 0.0068\n",
      "Epoch 13/20\n",
      "1875/1875 [==============================] - 60s 32ms/step - loss: 0.0065 - val_loss: 0.0068\n",
      "Epoch 14/20\n",
      "1875/1875 [==============================] - 58s 31ms/step - loss: 0.0065 - val_loss: 0.0067\n",
      "Epoch 15/20\n",
      "1875/1875 [==============================] - 60s 32ms/step - loss: 0.0064 - val_loss: 0.0067\n",
      "Epoch 16/20\n",
      "1875/1875 [==============================] - 59s 31ms/step - loss: 0.0063 - val_loss: 0.0067\n",
      "Epoch 17/20\n",
      "1875/1875 [==============================] - 60s 32ms/step - loss: 0.0063 - val_loss: 0.0066\n",
      "Epoch 18/20\n",
      "1875/1875 [==============================] - 58s 31ms/step - loss: 0.0062 - val_loss: 0.0065\n",
      "Epoch 19/20\n",
      "1875/1875 [==============================] - 60s 32ms/step - loss: 0.0062 - val_loss: 0.0066\n",
      "Epoch 20/20\n",
      "1875/1875 [==============================] - 58s 31ms/step - loss: 0.0062 - val_loss: 0.0065\n"
     ]
    },
    {
     "data": {
      "text/plain": [
       "<keras.callbacks.History at 0x239c73eefa0>"
      ]
     },
     "execution_count": 20,
     "metadata": {},
     "output_type": "execute_result"
    }
   ],
   "source": [
    "#train the autoencoder\n",
    "autoencoder.fit(x_train, x_train,\n",
    "               validation_data=(x_test,x_test),\n",
    "               epochs=20,\n",
    "               batch_size=batch_size)"
   ]
  },
  {
   "cell_type": "code",
   "execution_count": 21,
   "id": "22fca8c0",
   "metadata": {},
   "outputs": [],
   "source": [
    "#predict the autoencoder output from test data\n",
    "\n",
    "x_decoded = autoencoder.predict(x_test)"
   ]
  },
  {
   "cell_type": "code",
   "execution_count": 22,
   "id": "ec2c1573",
   "metadata": {},
   "outputs": [
    {
     "data": {
      "image/png": "[encoded data removed]",
      "text/plain": [
       "<Figure size 432x288 with 1 Axes>"
      ]
     },
     "metadata": {
      "needs_background": "light"
     },
     "output_type": "display_data"
    }
   ],
   "source": [
    "#display the first 10 input and decoded images\n",
    "\n",
    "imgs = np.concatenate([x_test[:8], x_decoded[:8]])\n",
    "imgs = imgs.reshape((4,4,image_size, image_size))\n",
    "imgs = np.vstack([np.hstack(i) for i in imgs])\n",
    "plt.figure()\n",
    "plt.axis('off')\n",
    "plt.title(\"Input first 2 rows. Decoded: last 2 rows\")\n",
    "plt.imshow(imgs, interpolation='none',cmap='gray')\n",
    "plt.savefig('input_n_decoded.png')\n",
    "plt.show()"
   ]
  },
  {
   "cell_type": "markdown",
   "id": "681f360b",
   "metadata": {},
   "source": [
    "#### "
   ]
  }
 ],
 "metadata": {
  "kernelspec": {
   "display_name": "Python 3 (ipykernel)",
   "language": "python",
   "name": "python3"
  },
  "language_info": {
   "codemirror_mode": {
    "name": "ipython",
    "version": 3
   },
   "file_extension": ".py",
   "mimetype": "text/x-python",
   "name": "python",
   "nbconvert_exporter": "python",
   "pygments_lexer": "ipython3",
   "version": "3.9.9"
  }
 },
 "nbformat": 4,
 "nbformat_minor": 5
}
